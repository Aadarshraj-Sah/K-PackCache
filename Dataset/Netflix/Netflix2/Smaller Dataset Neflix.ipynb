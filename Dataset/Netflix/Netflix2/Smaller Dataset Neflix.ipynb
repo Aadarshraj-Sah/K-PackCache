{
 "cells": [
  {
   "cell_type": "code",
   "execution_count": 1,
   "id": "b619b381",
   "metadata": {},
   "outputs": [],
   "source": [
    "import numpy as np\n",
    "import pandas as pd\n",
    "\n",
    "df = pd.read_csv(\"/Users/suvarthi/Library/CloudStorage/OneDrive-IndianInstituteofTechnologyGuwahati/PhD/BTP 2024/Adarsh-Sweeya/Sem 8/Netflix/adarsh_sweeya_netflix_2_sem8.csv\")"
   ]
  },
  {
   "cell_type": "code",
   "execution_count": 2,
   "id": "4aab5be7",
   "metadata": {},
   "outputs": [],
   "source": [
    "PLAYS = []\n",
    "NUM_PLAY = []"
   ]
  },
  {
   "cell_type": "code",
   "execution_count": 3,
   "id": "bce5b8f4",
   "metadata": {},
   "outputs": [],
   "source": [
    "df1 = df['dataid'].value_counts()"
   ]
  },
  {
   "cell_type": "code",
   "execution_count": 4,
   "id": "638cca26",
   "metadata": {},
   "outputs": [],
   "source": [
    "df2 = pd.DataFrame(df1).reset_index()"
   ]
  },
  {
   "cell_type": "code",
   "execution_count": 5,
   "id": "f58fba22",
   "metadata": {},
   "outputs": [],
   "source": [
    "df2.rename(columns = {'index':'dataid','dataid':'access'}, inplace = True) "
   ]
  },
  {
   "cell_type": "code",
   "execution_count": 60,
   "id": "8e3d564a",
   "metadata": {},
   "outputs": [],
   "source": [
    "num_plays = 10\n",
    "NUM_PLAY.append(num_plays)"
   ]
  },
  {
   "cell_type": "code",
   "execution_count": 61,
   "id": "c8cc9553",
   "metadata": {},
   "outputs": [],
   "source": [
    "df2 = df2.head(num_plays)"
   ]
  },
  {
   "cell_type": "code",
   "execution_count": 62,
   "id": "9994e97b",
   "metadata": {},
   "outputs": [],
   "source": [
    "PLAYS.append(sum(df2['access'])*100/len(df))"
   ]
  },
  {
   "cell_type": "code",
   "execution_count": 63,
   "id": "e0df3889",
   "metadata": {},
   "outputs": [
    {
     "data": {
      "text/plain": [
       "[36.318171541076495,\n",
       " 33.88053310710362,\n",
       " 31.23370555856795,\n",
       " 28.41050287422442,\n",
       " 25.435735623375557,\n",
       " 22.281091745083405,\n",
       " 18.921360499572817,\n",
       " 15.248095688763414,\n",
       " 11.07521804288627,\n",
       " 6.181633375818098]"
      ]
     },
     "execution_count": 63,
     "metadata": {},
     "output_type": "execute_result"
    }
   ],
   "source": [
    "PLAYS"
   ]
  },
  {
   "cell_type": "code",
   "execution_count": 64,
   "id": "56908371",
   "metadata": {},
   "outputs": [
    {
     "data": {
      "text/plain": [
       "[100, 90, 80, 70, 60, 50, 40, 30, 20, 10]"
      ]
     },
     "execution_count": 64,
     "metadata": {},
     "output_type": "execute_result"
    }
   ],
   "source": [
    "NUM_PLAY"
   ]
  },
  {
   "cell_type": "code",
   "execution_count": 65,
   "id": "e87f99e5",
   "metadata": {},
   "outputs": [],
   "source": [
    "file = f'netflix_viral_{num_plays}_set_2.csv'\n",
    "df2.to_csv(file,index = False)"
   ]
  },
  {
   "cell_type": "code",
   "execution_count": 66,
   "id": "5a7c5671",
   "metadata": {},
   "outputs": [],
   "source": [
    "PLAYS = pd.DataFrame(PLAYS).reset_index()"
   ]
  },
  {
   "cell_type": "code",
   "execution_count": 80,
   "id": "647a7c0a",
   "metadata": {},
   "outputs": [
    {
     "data": {
      "text/html": [
       "<div>\n",
       "<style scoped>\n",
       "    .dataframe tbody tr th:only-of-type {\n",
       "        vertical-align: middle;\n",
       "    }\n",
       "\n",
       "    .dataframe tbody tr th {\n",
       "        vertical-align: top;\n",
       "    }\n",
       "\n",
       "    .dataframe thead th {\n",
       "        text-align: right;\n",
       "    }\n",
       "</style>\n",
       "<table border=\"1\" class=\"dataframe\">\n",
       "  <thead>\n",
       "    <tr style=\"text-align: right;\">\n",
       "      <th></th>\n",
       "      <th>data size</th>\n",
       "      <th>access</th>\n",
       "    </tr>\n",
       "  </thead>\n",
       "  <tbody>\n",
       "    <tr>\n",
       "      <th>0</th>\n",
       "      <td>10</td>\n",
       "      <td>36.318172</td>\n",
       "    </tr>\n",
       "    <tr>\n",
       "      <th>1</th>\n",
       "      <td>20</td>\n",
       "      <td>33.880533</td>\n",
       "    </tr>\n",
       "    <tr>\n",
       "      <th>2</th>\n",
       "      <td>30</td>\n",
       "      <td>31.233706</td>\n",
       "    </tr>\n",
       "    <tr>\n",
       "      <th>3</th>\n",
       "      <td>40</td>\n",
       "      <td>28.410503</td>\n",
       "    </tr>\n",
       "    <tr>\n",
       "      <th>4</th>\n",
       "      <td>50</td>\n",
       "      <td>25.435736</td>\n",
       "    </tr>\n",
       "    <tr>\n",
       "      <th>5</th>\n",
       "      <td>60</td>\n",
       "      <td>22.281092</td>\n",
       "    </tr>\n",
       "    <tr>\n",
       "      <th>6</th>\n",
       "      <td>70</td>\n",
       "      <td>18.921360</td>\n",
       "    </tr>\n",
       "    <tr>\n",
       "      <th>7</th>\n",
       "      <td>80</td>\n",
       "      <td>15.248096</td>\n",
       "    </tr>\n",
       "    <tr>\n",
       "      <th>8</th>\n",
       "      <td>90</td>\n",
       "      <td>11.075218</td>\n",
       "    </tr>\n",
       "    <tr>\n",
       "      <th>9</th>\n",
       "      <td>100</td>\n",
       "      <td>6.181633</td>\n",
       "    </tr>\n",
       "  </tbody>\n",
       "</table>\n",
       "</div>"
      ],
      "text/plain": [
       "   data size     access\n",
       "0         10  36.318172\n",
       "1         20  33.880533\n",
       "2         30  31.233706\n",
       "3         40  28.410503\n",
       "4         50  25.435736\n",
       "5         60  22.281092\n",
       "6         70  18.921360\n",
       "7         80  15.248096\n",
       "8         90  11.075218\n",
       "9        100   6.181633"
      ]
     },
     "execution_count": 80,
     "metadata": {},
     "output_type": "execute_result"
    }
   ],
   "source": [
    "PLAYS"
   ]
  },
  {
   "cell_type": "code",
   "execution_count": 68,
   "id": "823d896c",
   "metadata": {},
   "outputs": [],
   "source": [
    "for i in range(0,len(PLAYS)):\n",
    "    PLAYS.iloc[i,0] = PLAYS.iloc[i,0]*10 + 10"
   ]
  },
  {
   "cell_type": "code",
   "execution_count": 77,
   "id": "2b8f612e",
   "metadata": {},
   "outputs": [],
   "source": [
    "PLAYS.rename(columns = {'index':'data size',0:'access'}, inplace = True) "
   ]
  },
  {
   "cell_type": "code",
   "execution_count": 81,
   "id": "abd81f26",
   "metadata": {},
   "outputs": [],
   "source": [
    "PLAYS.to_csv('set_2_plays',index = False)"
   ]
  },
  {
   "cell_type": "code",
   "execution_count": null,
   "id": "2115825d",
   "metadata": {},
   "outputs": [],
   "source": []
  }
 ],
 "metadata": {
  "kernelspec": {
   "display_name": "Python 3 (ipykernel)",
   "language": "python",
   "name": "python3"
  },
  "language_info": {
   "codemirror_mode": {
    "name": "ipython",
    "version": 3
   },
   "file_extension": ".py",
   "mimetype": "text/x-python",
   "name": "python",
   "nbconvert_exporter": "python",
   "pygments_lexer": "ipython3",
   "version": "3.10.9"
  }
 },
 "nbformat": 4,
 "nbformat_minor": 5
}
